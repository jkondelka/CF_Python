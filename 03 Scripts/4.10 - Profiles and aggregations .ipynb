{
 "cells": [
  {
   "cell_type": "markdown",
   "id": "03e9c315",
   "metadata": {},
   "source": [
    "# Table of Contents\n",
    "\n",
    "1. Data importing\n",
    "2. Data checks and merging dataframes\n",
    "3. PII privacy checks\n",
    "4. Assign regions\n",
    "5. Flag and exclude customers with less than 5 orders\n",
    "6. Creating customer profile\n",
    "* 6a. Age profile\n",
    "* 6b. Income profile\n",
    "* 6c. Number of Dependants profile\n",
    "* 6d. Deparments profiles - Alcohol, Baby items, International items\n",
    "7. Aggregate max, mean, and min variables on a customer-profile level for usage frequency and expenditure\n",
    "* 7a. Age aggregation\n",
    "* 7b. Income aggregation\n",
    "* 7c. Number of Dependants aggregation\n",
    "* 7d. Department based aggregation\n",
    "8. Visualize distribution of profiles\n",
    "* 8a. Age profile\n",
    "* 8b. Income profile\n",
    "* 8c. Number of Dependants profile\n",
    "* 8d. Deparment based profiles"
   ]
  },
  {
   "cell_type": "markdown",
   "id": "2d41e738",
   "metadata": {},
   "source": [
    "# 1. Data importing"
   ]
  },
  {
   "cell_type": "code",
   "execution_count": 2,
   "id": "60bf9fb9",
   "metadata": {},
   "outputs": [],
   "source": [
    "import pandas as pd\n",
    "import numpy as np\n",
    "import os\n",
    "import matplotlib.pyplot as plt\n",
    "import seaborn as sns\n",
    "import scipy"
   ]
  },
  {
   "cell_type": "code",
   "execution_count": 3,
   "id": "697553d6",
   "metadata": {},
   "outputs": [],
   "source": [
    "path = r'/Users/jakubkondelka/Documents/CF_Instacart Basket Analysis'"
   ]
  },
  {
   "cell_type": "code",
   "execution_count": 4,
   "id": "abd4f05c",
   "metadata": {},
   "outputs": [],
   "source": [
    "ds = pd.read_pickle(os.path.join(path, '02 Data', 'Prepared Data', 'fixed_final_task.pkl'))"
   ]
  },
  {
   "cell_type": "code",
   "execution_count": 5,
   "id": "92bf22d8",
   "metadata": {},
   "outputs": [],
   "source": [
    "departments = pd.read_csv(os.path.join(path, '02 Data', 'Prepared Data', 'departments_wrangled.csv'), index_col=False)"
   ]
  },
  {
   "cell_type": "markdown",
   "id": "963f84c5",
   "metadata": {},
   "source": [
    "# 2. Data checks and merging dataframes"
   ]
  },
  {
   "cell_type": "code",
   "execution_count": 5,
   "id": "f11091dc",
   "metadata": {},
   "outputs": [
    {
     "data": {
      "text/plain": [
       "(32404859, 34)"
      ]
     },
     "execution_count": 5,
     "metadata": {},
     "output_type": "execute_result"
    }
   ],
   "source": [
    "ds.shape"
   ]
  },
  {
   "cell_type": "code",
   "execution_count": 6,
   "id": "88fd7e6d",
   "metadata": {},
   "outputs": [
    {
     "data": {
      "text/html": [
       "<div>\n",
       "<style scoped>\n",
       "    .dataframe tbody tr th:only-of-type {\n",
       "        vertical-align: middle;\n",
       "    }\n",
       "\n",
       "    .dataframe tbody tr th {\n",
       "        vertical-align: top;\n",
       "    }\n",
       "\n",
       "    .dataframe thead th {\n",
       "        text-align: right;\n",
       "    }\n",
       "</style>\n",
       "<table border=\"1\" class=\"dataframe\">\n",
       "  <thead>\n",
       "    <tr style=\"text-align: right;\">\n",
       "      <th></th>\n",
       "      <th>user_id</th>\n",
       "      <th>first_name</th>\n",
       "      <th>last_name</th>\n",
       "      <th>gender</th>\n",
       "      <th>state</th>\n",
       "      <th>age</th>\n",
       "      <th>date_joined</th>\n",
       "      <th>n_dependants</th>\n",
       "      <th>fam_status</th>\n",
       "      <th>income</th>\n",
       "      <th>...</th>\n",
       "      <th>price_range_loc</th>\n",
       "      <th>busiest day</th>\n",
       "      <th>Busiest days</th>\n",
       "      <th>Busiest_period_of_day</th>\n",
       "      <th>max_order</th>\n",
       "      <th>loyalty_flag</th>\n",
       "      <th>mean_prices</th>\n",
       "      <th>Spender_flag</th>\n",
       "      <th>order_frequency</th>\n",
       "      <th>frequency_flag</th>\n",
       "    </tr>\n",
       "  </thead>\n",
       "  <tbody>\n",
       "    <tr>\n",
       "      <th>0</th>\n",
       "      <td>26711</td>\n",
       "      <td>Deborah</td>\n",
       "      <td>Esquivel</td>\n",
       "      <td>Female</td>\n",
       "      <td>Missouri</td>\n",
       "      <td>48</td>\n",
       "      <td>1/1/2017</td>\n",
       "      <td>3</td>\n",
       "      <td>married</td>\n",
       "      <td>165665</td>\n",
       "      <td>...</td>\n",
       "      <td>Mid-range product</td>\n",
       "      <td>Regularly busy</td>\n",
       "      <td>Busiest day</td>\n",
       "      <td>Most orders</td>\n",
       "      <td>8</td>\n",
       "      <td>New customer</td>\n",
       "      <td>7.988889</td>\n",
       "      <td>Low Spender</td>\n",
       "      <td>19.0</td>\n",
       "      <td>Regular customer</td>\n",
       "    </tr>\n",
       "    <tr>\n",
       "      <th>1</th>\n",
       "      <td>26711</td>\n",
       "      <td>Deborah</td>\n",
       "      <td>Esquivel</td>\n",
       "      <td>Female</td>\n",
       "      <td>Missouri</td>\n",
       "      <td>48</td>\n",
       "      <td>1/1/2017</td>\n",
       "      <td>3</td>\n",
       "      <td>married</td>\n",
       "      <td>165665</td>\n",
       "      <td>...</td>\n",
       "      <td>Mid-range product</td>\n",
       "      <td>Regularly busy</td>\n",
       "      <td>Regularly busy</td>\n",
       "      <td>Most orders</td>\n",
       "      <td>8</td>\n",
       "      <td>New customer</td>\n",
       "      <td>7.988889</td>\n",
       "      <td>Low Spender</td>\n",
       "      <td>19.0</td>\n",
       "      <td>Regular customer</td>\n",
       "    </tr>\n",
       "    <tr>\n",
       "      <th>2</th>\n",
       "      <td>26711</td>\n",
       "      <td>Deborah</td>\n",
       "      <td>Esquivel</td>\n",
       "      <td>Female</td>\n",
       "      <td>Missouri</td>\n",
       "      <td>48</td>\n",
       "      <td>1/1/2017</td>\n",
       "      <td>3</td>\n",
       "      <td>married</td>\n",
       "      <td>165665</td>\n",
       "      <td>...</td>\n",
       "      <td>Mid-range product</td>\n",
       "      <td>Regularly busy</td>\n",
       "      <td>Busiest day</td>\n",
       "      <td>Most orders</td>\n",
       "      <td>8</td>\n",
       "      <td>New customer</td>\n",
       "      <td>7.988889</td>\n",
       "      <td>Low Spender</td>\n",
       "      <td>19.0</td>\n",
       "      <td>Regular customer</td>\n",
       "    </tr>\n",
       "    <tr>\n",
       "      <th>3</th>\n",
       "      <td>26711</td>\n",
       "      <td>Deborah</td>\n",
       "      <td>Esquivel</td>\n",
       "      <td>Female</td>\n",
       "      <td>Missouri</td>\n",
       "      <td>48</td>\n",
       "      <td>1/1/2017</td>\n",
       "      <td>3</td>\n",
       "      <td>married</td>\n",
       "      <td>165665</td>\n",
       "      <td>...</td>\n",
       "      <td>Mid-range product</td>\n",
       "      <td>Regularly busy</td>\n",
       "      <td>Regularly busy</td>\n",
       "      <td>Most orders</td>\n",
       "      <td>8</td>\n",
       "      <td>New customer</td>\n",
       "      <td>7.988889</td>\n",
       "      <td>Low Spender</td>\n",
       "      <td>19.0</td>\n",
       "      <td>Regular customer</td>\n",
       "    </tr>\n",
       "    <tr>\n",
       "      <th>4</th>\n",
       "      <td>26711</td>\n",
       "      <td>Deborah</td>\n",
       "      <td>Esquivel</td>\n",
       "      <td>Female</td>\n",
       "      <td>Missouri</td>\n",
       "      <td>48</td>\n",
       "      <td>1/1/2017</td>\n",
       "      <td>3</td>\n",
       "      <td>married</td>\n",
       "      <td>165665</td>\n",
       "      <td>...</td>\n",
       "      <td>Mid-range product</td>\n",
       "      <td>Regularly busy</td>\n",
       "      <td>Least busy</td>\n",
       "      <td>Most orders</td>\n",
       "      <td>8</td>\n",
       "      <td>New customer</td>\n",
       "      <td>7.988889</td>\n",
       "      <td>Low Spender</td>\n",
       "      <td>19.0</td>\n",
       "      <td>Regular customer</td>\n",
       "    </tr>\n",
       "  </tbody>\n",
       "</table>\n",
       "<p>5 rows × 34 columns</p>\n",
       "</div>"
      ],
      "text/plain": [
       "   user_id first_name last_name  gender     state  age date_joined  \\\n",
       "0    26711    Deborah  Esquivel  Female  Missouri   48    1/1/2017   \n",
       "1    26711    Deborah  Esquivel  Female  Missouri   48    1/1/2017   \n",
       "2    26711    Deborah  Esquivel  Female  Missouri   48    1/1/2017   \n",
       "3    26711    Deborah  Esquivel  Female  Missouri   48    1/1/2017   \n",
       "4    26711    Deborah  Esquivel  Female  Missouri   48    1/1/2017   \n",
       "\n",
       "   n_dependants fam_status  income  ...    price_range_loc     busiest day  \\\n",
       "0             3    married  165665  ...  Mid-range product  Regularly busy   \n",
       "1             3    married  165665  ...  Mid-range product  Regularly busy   \n",
       "2             3    married  165665  ...  Mid-range product  Regularly busy   \n",
       "3             3    married  165665  ...  Mid-range product  Regularly busy   \n",
       "4             3    married  165665  ...  Mid-range product  Regularly busy   \n",
       "\n",
       "     Busiest days  Busiest_period_of_day  max_order  loyalty_flag  \\\n",
       "0     Busiest day            Most orders          8  New customer   \n",
       "1  Regularly busy            Most orders          8  New customer   \n",
       "2     Busiest day            Most orders          8  New customer   \n",
       "3  Regularly busy            Most orders          8  New customer   \n",
       "4      Least busy            Most orders          8  New customer   \n",
       "\n",
       "   mean_prices  Spender_flag  order_frequency    frequency_flag  \n",
       "0     7.988889   Low Spender             19.0  Regular customer  \n",
       "1     7.988889   Low Spender             19.0  Regular customer  \n",
       "2     7.988889   Low Spender             19.0  Regular customer  \n",
       "3     7.988889   Low Spender             19.0  Regular customer  \n",
       "4     7.988889   Low Spender             19.0  Regular customer  \n",
       "\n",
       "[5 rows x 34 columns]"
      ]
     },
     "execution_count": 6,
     "metadata": {},
     "output_type": "execute_result"
    }
   ],
   "source": [
    "ds.head()"
   ]
  },
  {
   "cell_type": "code",
   "execution_count": 7,
   "id": "47280dfe",
   "metadata": {},
   "outputs": [
    {
     "name": "stdout",
     "output_type": "stream",
     "text": [
      "<class 'pandas.core.frame.DataFrame'>\n",
      "Int64Index: 32404859 entries, 0 to 32404858\n",
      "Data columns (total 34 columns):\n",
      " #   Column                  Dtype   \n",
      "---  ------                  -----   \n",
      " 0   user_id                 int64   \n",
      " 1   first_name              object  \n",
      " 2   last_name               object  \n",
      " 3   gender                  object  \n",
      " 4   state                   object  \n",
      " 5   age                     int64   \n",
      " 6   date_joined             object  \n",
      " 7   n_dependants            int64   \n",
      " 8   fam_status              object  \n",
      " 9   income                  int64   \n",
      " 10  order_id                int64   \n",
      " 11  evaluations             object  \n",
      " 12  order_number            int64   \n",
      " 13  orders_day_of_week      int64   \n",
      " 14  order_hour_of_day       int64   \n",
      " 15  days_since_prior_order  float64 \n",
      " 16  product_id              int64   \n",
      " 17  add_to_cart_order       int64   \n",
      " 18  reordered               int64   \n",
      " 19  product_name            object  \n",
      " 20  aisle_id                int64   \n",
      " 21  department_id           int64   \n",
      " 22  prices                  float64 \n",
      " 23  _merge                  category\n",
      " 24  price_range_loc         object  \n",
      " 25  busiest day             object  \n",
      " 26  Busiest days            object  \n",
      " 27  Busiest_period_of_day   object  \n",
      " 28  max_order               int64   \n",
      " 29  loyalty_flag            object  \n",
      " 30  mean_prices             float64 \n",
      " 31  Spender_flag            object  \n",
      " 32  order_frequency         float64 \n",
      " 33  frequency_flag          object  \n",
      "dtypes: category(1), float64(4), int64(14), object(15)\n",
      "memory usage: 8.2+ GB\n"
     ]
    }
   ],
   "source": [
    "ds.info()"
   ]
  },
  {
   "cell_type": "code",
   "execution_count": 8,
   "id": "65538c12",
   "metadata": {},
   "outputs": [
    {
     "data": {
      "text/plain": [
       "(21, 2)"
      ]
     },
     "execution_count": 8,
     "metadata": {},
     "output_type": "execute_result"
    }
   ],
   "source": [
    "departments.shape"
   ]
  },
  {
   "cell_type": "code",
   "execution_count": 9,
   "id": "031ea332",
   "metadata": {},
   "outputs": [
    {
     "data": {
      "text/html": [
       "<div>\n",
       "<style scoped>\n",
       "    .dataframe tbody tr th:only-of-type {\n",
       "        vertical-align: middle;\n",
       "    }\n",
       "\n",
       "    .dataframe tbody tr th {\n",
       "        vertical-align: top;\n",
       "    }\n",
       "\n",
       "    .dataframe thead th {\n",
       "        text-align: right;\n",
       "    }\n",
       "</style>\n",
       "<table border=\"1\" class=\"dataframe\">\n",
       "  <thead>\n",
       "    <tr style=\"text-align: right;\">\n",
       "      <th></th>\n",
       "      <th>Unnamed: 0</th>\n",
       "      <th>department</th>\n",
       "    </tr>\n",
       "  </thead>\n",
       "  <tbody>\n",
       "    <tr>\n",
       "      <th>0</th>\n",
       "      <td>1</td>\n",
       "      <td>frozen</td>\n",
       "    </tr>\n",
       "    <tr>\n",
       "      <th>1</th>\n",
       "      <td>2</td>\n",
       "      <td>other</td>\n",
       "    </tr>\n",
       "    <tr>\n",
       "      <th>2</th>\n",
       "      <td>3</td>\n",
       "      <td>bakery</td>\n",
       "    </tr>\n",
       "    <tr>\n",
       "      <th>3</th>\n",
       "      <td>4</td>\n",
       "      <td>produce</td>\n",
       "    </tr>\n",
       "    <tr>\n",
       "      <th>4</th>\n",
       "      <td>5</td>\n",
       "      <td>alcohol</td>\n",
       "    </tr>\n",
       "  </tbody>\n",
       "</table>\n",
       "</div>"
      ],
      "text/plain": [
       "   Unnamed: 0 department\n",
       "0           1     frozen\n",
       "1           2      other\n",
       "2           3     bakery\n",
       "3           4    produce\n",
       "4           5    alcohol"
      ]
     },
     "execution_count": 9,
     "metadata": {},
     "output_type": "execute_result"
    }
   ],
   "source": [
    "departments.head()"
   ]
  },
  {
   "cell_type": "code",
   "execution_count": 10,
   "id": "3c56780d",
   "metadata": {},
   "outputs": [
    {
     "name": "stdout",
     "output_type": "stream",
     "text": [
      "<class 'pandas.core.frame.DataFrame'>\n",
      "RangeIndex: 21 entries, 0 to 20\n",
      "Data columns (total 2 columns):\n",
      " #   Column      Non-Null Count  Dtype \n",
      "---  ------      --------------  ----- \n",
      " 0   Unnamed: 0  21 non-null     int64 \n",
      " 1   department  21 non-null     object\n",
      "dtypes: int64(1), object(1)\n",
      "memory usage: 464.0+ bytes\n"
     ]
    }
   ],
   "source": [
    "departments.info()"
   ]
  },
  {
   "cell_type": "code",
   "execution_count": 6,
   "id": "bcf69041",
   "metadata": {},
   "outputs": [],
   "source": [
    "#Rename unnamed column to departmen_id, so that it can be merged\n",
    "departments.rename(columns={'Unnamed: 0':'department_id'}, inplace=True)"
   ]
  },
  {
   "cell_type": "code",
   "execution_count": 7,
   "id": "ec317421",
   "metadata": {},
   "outputs": [],
   "source": [
    "#Deleting some columns\n",
    "ds=ds.drop(columns=['_merge', 'aisle_id'])"
   ]
  },
  {
   "cell_type": "code",
   "execution_count": 8,
   "id": "292e92ea",
   "metadata": {},
   "outputs": [],
   "source": [
    "#merging dataframes on department_id\n",
    "merged=ds.merge(departments, on='department_id')"
   ]
  },
  {
   "cell_type": "code",
   "execution_count": 14,
   "id": "cabaaf40",
   "metadata": {},
   "outputs": [
    {
     "data": {
      "text/plain": [
       "(32404859, 33)"
      ]
     },
     "execution_count": 14,
     "metadata": {},
     "output_type": "execute_result"
    }
   ],
   "source": [
    "merged.shape"
   ]
  },
  {
   "cell_type": "code",
   "execution_count": 15,
   "id": "5d71f1d8",
   "metadata": {},
   "outputs": [
    {
     "data": {
      "text/html": [
       "<div>\n",
       "<style scoped>\n",
       "    .dataframe tbody tr th:only-of-type {\n",
       "        vertical-align: middle;\n",
       "    }\n",
       "\n",
       "    .dataframe tbody tr th {\n",
       "        vertical-align: top;\n",
       "    }\n",
       "\n",
       "    .dataframe thead th {\n",
       "        text-align: right;\n",
       "    }\n",
       "</style>\n",
       "<table border=\"1\" class=\"dataframe\">\n",
       "  <thead>\n",
       "    <tr style=\"text-align: right;\">\n",
       "      <th></th>\n",
       "      <th>user_id</th>\n",
       "      <th>first_name</th>\n",
       "      <th>last_name</th>\n",
       "      <th>gender</th>\n",
       "      <th>state</th>\n",
       "      <th>age</th>\n",
       "      <th>date_joined</th>\n",
       "      <th>n_dependants</th>\n",
       "      <th>fam_status</th>\n",
       "      <th>income</th>\n",
       "      <th>...</th>\n",
       "      <th>busiest day</th>\n",
       "      <th>Busiest days</th>\n",
       "      <th>Busiest_period_of_day</th>\n",
       "      <th>max_order</th>\n",
       "      <th>loyalty_flag</th>\n",
       "      <th>mean_prices</th>\n",
       "      <th>Spender_flag</th>\n",
       "      <th>order_frequency</th>\n",
       "      <th>frequency_flag</th>\n",
       "      <th>department</th>\n",
       "    </tr>\n",
       "  </thead>\n",
       "  <tbody>\n",
       "    <tr>\n",
       "      <th>0</th>\n",
       "      <td>26711</td>\n",
       "      <td>Deborah</td>\n",
       "      <td>Esquivel</td>\n",
       "      <td>Female</td>\n",
       "      <td>Missouri</td>\n",
       "      <td>48</td>\n",
       "      <td>1/1/2017</td>\n",
       "      <td>3</td>\n",
       "      <td>married</td>\n",
       "      <td>165665</td>\n",
       "      <td>...</td>\n",
       "      <td>Regularly busy</td>\n",
       "      <td>Busiest day</td>\n",
       "      <td>Most orders</td>\n",
       "      <td>8</td>\n",
       "      <td>New customer</td>\n",
       "      <td>7.988889</td>\n",
       "      <td>Low Spender</td>\n",
       "      <td>19.0</td>\n",
       "      <td>Regular customer</td>\n",
       "      <td>beverages</td>\n",
       "    </tr>\n",
       "    <tr>\n",
       "      <th>1</th>\n",
       "      <td>26711</td>\n",
       "      <td>Deborah</td>\n",
       "      <td>Esquivel</td>\n",
       "      <td>Female</td>\n",
       "      <td>Missouri</td>\n",
       "      <td>48</td>\n",
       "      <td>1/1/2017</td>\n",
       "      <td>3</td>\n",
       "      <td>married</td>\n",
       "      <td>165665</td>\n",
       "      <td>...</td>\n",
       "      <td>Regularly busy</td>\n",
       "      <td>Regularly busy</td>\n",
       "      <td>Most orders</td>\n",
       "      <td>8</td>\n",
       "      <td>New customer</td>\n",
       "      <td>7.988889</td>\n",
       "      <td>Low Spender</td>\n",
       "      <td>19.0</td>\n",
       "      <td>Regular customer</td>\n",
       "      <td>beverages</td>\n",
       "    </tr>\n",
       "    <tr>\n",
       "      <th>2</th>\n",
       "      <td>26711</td>\n",
       "      <td>Deborah</td>\n",
       "      <td>Esquivel</td>\n",
       "      <td>Female</td>\n",
       "      <td>Missouri</td>\n",
       "      <td>48</td>\n",
       "      <td>1/1/2017</td>\n",
       "      <td>3</td>\n",
       "      <td>married</td>\n",
       "      <td>165665</td>\n",
       "      <td>...</td>\n",
       "      <td>Regularly busy</td>\n",
       "      <td>Busiest day</td>\n",
       "      <td>Most orders</td>\n",
       "      <td>8</td>\n",
       "      <td>New customer</td>\n",
       "      <td>7.988889</td>\n",
       "      <td>Low Spender</td>\n",
       "      <td>19.0</td>\n",
       "      <td>Regular customer</td>\n",
       "      <td>beverages</td>\n",
       "    </tr>\n",
       "    <tr>\n",
       "      <th>3</th>\n",
       "      <td>33890</td>\n",
       "      <td>Patricia</td>\n",
       "      <td>Hart</td>\n",
       "      <td>Female</td>\n",
       "      <td>New Mexico</td>\n",
       "      <td>36</td>\n",
       "      <td>1/1/2017</td>\n",
       "      <td>0</td>\n",
       "      <td>single</td>\n",
       "      <td>59285</td>\n",
       "      <td>...</td>\n",
       "      <td>Regularly busy</td>\n",
       "      <td>Regularly busy</td>\n",
       "      <td>Most orders</td>\n",
       "      <td>12</td>\n",
       "      <td>Regular customer</td>\n",
       "      <td>7.057534</td>\n",
       "      <td>Low Spender</td>\n",
       "      <td>26.0</td>\n",
       "      <td>Non frequent customer</td>\n",
       "      <td>beverages</td>\n",
       "    </tr>\n",
       "    <tr>\n",
       "      <th>4</th>\n",
       "      <td>33890</td>\n",
       "      <td>Patricia</td>\n",
       "      <td>Hart</td>\n",
       "      <td>Female</td>\n",
       "      <td>New Mexico</td>\n",
       "      <td>36</td>\n",
       "      <td>1/1/2017</td>\n",
       "      <td>0</td>\n",
       "      <td>single</td>\n",
       "      <td>59285</td>\n",
       "      <td>...</td>\n",
       "      <td>Regularly busy</td>\n",
       "      <td>Busiest day</td>\n",
       "      <td>Fewest orders</td>\n",
       "      <td>12</td>\n",
       "      <td>Regular customer</td>\n",
       "      <td>7.057534</td>\n",
       "      <td>Low Spender</td>\n",
       "      <td>26.0</td>\n",
       "      <td>Non frequent customer</td>\n",
       "      <td>beverages</td>\n",
       "    </tr>\n",
       "  </tbody>\n",
       "</table>\n",
       "<p>5 rows × 33 columns</p>\n",
       "</div>"
      ],
      "text/plain": [
       "   user_id first_name last_name  gender       state  age date_joined  \\\n",
       "0    26711    Deborah  Esquivel  Female    Missouri   48    1/1/2017   \n",
       "1    26711    Deborah  Esquivel  Female    Missouri   48    1/1/2017   \n",
       "2    26711    Deborah  Esquivel  Female    Missouri   48    1/1/2017   \n",
       "3    33890   Patricia      Hart  Female  New Mexico   36    1/1/2017   \n",
       "4    33890   Patricia      Hart  Female  New Mexico   36    1/1/2017   \n",
       "\n",
       "   n_dependants fam_status  income  ...     busiest day    Busiest days  \\\n",
       "0             3    married  165665  ...  Regularly busy     Busiest day   \n",
       "1             3    married  165665  ...  Regularly busy  Regularly busy   \n",
       "2             3    married  165665  ...  Regularly busy     Busiest day   \n",
       "3             0     single   59285  ...  Regularly busy  Regularly busy   \n",
       "4             0     single   59285  ...  Regularly busy     Busiest day   \n",
       "\n",
       "   Busiest_period_of_day  max_order      loyalty_flag  mean_prices  \\\n",
       "0            Most orders          8      New customer     7.988889   \n",
       "1            Most orders          8      New customer     7.988889   \n",
       "2            Most orders          8      New customer     7.988889   \n",
       "3            Most orders         12  Regular customer     7.057534   \n",
       "4          Fewest orders         12  Regular customer     7.057534   \n",
       "\n",
       "   Spender_flag  order_frequency         frequency_flag department  \n",
       "0   Low Spender             19.0       Regular customer  beverages  \n",
       "1   Low Spender             19.0       Regular customer  beverages  \n",
       "2   Low Spender             19.0       Regular customer  beverages  \n",
       "3   Low Spender             26.0  Non frequent customer  beverages  \n",
       "4   Low Spender             26.0  Non frequent customer  beverages  \n",
       "\n",
       "[5 rows x 33 columns]"
      ]
     },
     "execution_count": 15,
     "metadata": {},
     "output_type": "execute_result"
    }
   ],
   "source": [
    "merged.head()"
   ]
  },
  {
   "cell_type": "code",
   "execution_count": 9,
   "id": "1f53ff6a",
   "metadata": {},
   "outputs": [],
   "source": [
    "# delete original dataframes\n",
    "del ds, departments"
   ]
  },
  {
   "cell_type": "markdown",
   "id": "81168f79",
   "metadata": {},
   "source": [
    "# 3. PII privacy check"
   ]
  },
  {
   "cell_type": "code",
   "execution_count": 17,
   "id": "f6601490",
   "metadata": {},
   "outputs": [
    {
     "data": {
      "text/html": [
       "<div>\n",
       "<style scoped>\n",
       "    .dataframe tbody tr th:only-of-type {\n",
       "        vertical-align: middle;\n",
       "    }\n",
       "\n",
       "    .dataframe tbody tr th {\n",
       "        vertical-align: top;\n",
       "    }\n",
       "\n",
       "    .dataframe thead th {\n",
       "        text-align: right;\n",
       "    }\n",
       "</style>\n",
       "<table border=\"1\" class=\"dataframe\">\n",
       "  <thead>\n",
       "    <tr style=\"text-align: right;\">\n",
       "      <th></th>\n",
       "      <th>user_id</th>\n",
       "      <th>first_name</th>\n",
       "      <th>last_name</th>\n",
       "      <th>gender</th>\n",
       "      <th>state</th>\n",
       "      <th>age</th>\n",
       "      <th>date_joined</th>\n",
       "      <th>n_dependants</th>\n",
       "      <th>fam_status</th>\n",
       "      <th>income</th>\n",
       "      <th>...</th>\n",
       "      <th>busiest day</th>\n",
       "      <th>Busiest days</th>\n",
       "      <th>Busiest_period_of_day</th>\n",
       "      <th>max_order</th>\n",
       "      <th>loyalty_flag</th>\n",
       "      <th>mean_prices</th>\n",
       "      <th>Spender_flag</th>\n",
       "      <th>order_frequency</th>\n",
       "      <th>frequency_flag</th>\n",
       "      <th>department</th>\n",
       "    </tr>\n",
       "  </thead>\n",
       "  <tbody>\n",
       "    <tr>\n",
       "      <th>0</th>\n",
       "      <td>26711</td>\n",
       "      <td>Deborah</td>\n",
       "      <td>Esquivel</td>\n",
       "      <td>Female</td>\n",
       "      <td>Missouri</td>\n",
       "      <td>48</td>\n",
       "      <td>1/1/2017</td>\n",
       "      <td>3</td>\n",
       "      <td>married</td>\n",
       "      <td>165665</td>\n",
       "      <td>...</td>\n",
       "      <td>Regularly busy</td>\n",
       "      <td>Busiest day</td>\n",
       "      <td>Most orders</td>\n",
       "      <td>8</td>\n",
       "      <td>New customer</td>\n",
       "      <td>7.988889</td>\n",
       "      <td>Low Spender</td>\n",
       "      <td>19.0</td>\n",
       "      <td>Regular customer</td>\n",
       "      <td>beverages</td>\n",
       "    </tr>\n",
       "    <tr>\n",
       "      <th>1</th>\n",
       "      <td>26711</td>\n",
       "      <td>Deborah</td>\n",
       "      <td>Esquivel</td>\n",
       "      <td>Female</td>\n",
       "      <td>Missouri</td>\n",
       "      <td>48</td>\n",
       "      <td>1/1/2017</td>\n",
       "      <td>3</td>\n",
       "      <td>married</td>\n",
       "      <td>165665</td>\n",
       "      <td>...</td>\n",
       "      <td>Regularly busy</td>\n",
       "      <td>Regularly busy</td>\n",
       "      <td>Most orders</td>\n",
       "      <td>8</td>\n",
       "      <td>New customer</td>\n",
       "      <td>7.988889</td>\n",
       "      <td>Low Spender</td>\n",
       "      <td>19.0</td>\n",
       "      <td>Regular customer</td>\n",
       "      <td>beverages</td>\n",
       "    </tr>\n",
       "    <tr>\n",
       "      <th>2</th>\n",
       "      <td>26711</td>\n",
       "      <td>Deborah</td>\n",
       "      <td>Esquivel</td>\n",
       "      <td>Female</td>\n",
       "      <td>Missouri</td>\n",
       "      <td>48</td>\n",
       "      <td>1/1/2017</td>\n",
       "      <td>3</td>\n",
       "      <td>married</td>\n",
       "      <td>165665</td>\n",
       "      <td>...</td>\n",
       "      <td>Regularly busy</td>\n",
       "      <td>Busiest day</td>\n",
       "      <td>Most orders</td>\n",
       "      <td>8</td>\n",
       "      <td>New customer</td>\n",
       "      <td>7.988889</td>\n",
       "      <td>Low Spender</td>\n",
       "      <td>19.0</td>\n",
       "      <td>Regular customer</td>\n",
       "      <td>beverages</td>\n",
       "    </tr>\n",
       "    <tr>\n",
       "      <th>3</th>\n",
       "      <td>33890</td>\n",
       "      <td>Patricia</td>\n",
       "      <td>Hart</td>\n",
       "      <td>Female</td>\n",
       "      <td>New Mexico</td>\n",
       "      <td>36</td>\n",
       "      <td>1/1/2017</td>\n",
       "      <td>0</td>\n",
       "      <td>single</td>\n",
       "      <td>59285</td>\n",
       "      <td>...</td>\n",
       "      <td>Regularly busy</td>\n",
       "      <td>Regularly busy</td>\n",
       "      <td>Most orders</td>\n",
       "      <td>12</td>\n",
       "      <td>Regular customer</td>\n",
       "      <td>7.057534</td>\n",
       "      <td>Low Spender</td>\n",
       "      <td>26.0</td>\n",
       "      <td>Non frequent customer</td>\n",
       "      <td>beverages</td>\n",
       "    </tr>\n",
       "    <tr>\n",
       "      <th>4</th>\n",
       "      <td>33890</td>\n",
       "      <td>Patricia</td>\n",
       "      <td>Hart</td>\n",
       "      <td>Female</td>\n",
       "      <td>New Mexico</td>\n",
       "      <td>36</td>\n",
       "      <td>1/1/2017</td>\n",
       "      <td>0</td>\n",
       "      <td>single</td>\n",
       "      <td>59285</td>\n",
       "      <td>...</td>\n",
       "      <td>Regularly busy</td>\n",
       "      <td>Busiest day</td>\n",
       "      <td>Fewest orders</td>\n",
       "      <td>12</td>\n",
       "      <td>Regular customer</td>\n",
       "      <td>7.057534</td>\n",
       "      <td>Low Spender</td>\n",
       "      <td>26.0</td>\n",
       "      <td>Non frequent customer</td>\n",
       "      <td>beverages</td>\n",
       "    </tr>\n",
       "  </tbody>\n",
       "</table>\n",
       "<p>5 rows × 33 columns</p>\n",
       "</div>"
      ],
      "text/plain": [
       "   user_id first_name last_name  gender       state  age date_joined  \\\n",
       "0    26711    Deborah  Esquivel  Female    Missouri   48    1/1/2017   \n",
       "1    26711    Deborah  Esquivel  Female    Missouri   48    1/1/2017   \n",
       "2    26711    Deborah  Esquivel  Female    Missouri   48    1/1/2017   \n",
       "3    33890   Patricia      Hart  Female  New Mexico   36    1/1/2017   \n",
       "4    33890   Patricia      Hart  Female  New Mexico   36    1/1/2017   \n",
       "\n",
       "   n_dependants fam_status  income  ...     busiest day    Busiest days  \\\n",
       "0             3    married  165665  ...  Regularly busy     Busiest day   \n",
       "1             3    married  165665  ...  Regularly busy  Regularly busy   \n",
       "2             3    married  165665  ...  Regularly busy     Busiest day   \n",
       "3             0     single   59285  ...  Regularly busy  Regularly busy   \n",
       "4             0     single   59285  ...  Regularly busy     Busiest day   \n",
       "\n",
       "   Busiest_period_of_day  max_order      loyalty_flag  mean_prices  \\\n",
       "0            Most orders          8      New customer     7.988889   \n",
       "1            Most orders          8      New customer     7.988889   \n",
       "2            Most orders          8      New customer     7.988889   \n",
       "3            Most orders         12  Regular customer     7.057534   \n",
       "4          Fewest orders         12  Regular customer     7.057534   \n",
       "\n",
       "   Spender_flag  order_frequency         frequency_flag department  \n",
       "0   Low Spender             19.0       Regular customer  beverages  \n",
       "1   Low Spender             19.0       Regular customer  beverages  \n",
       "2   Low Spender             19.0       Regular customer  beverages  \n",
       "3   Low Spender             26.0  Non frequent customer  beverages  \n",
       "4   Low Spender             26.0  Non frequent customer  beverages  \n",
       "\n",
       "[5 rows x 33 columns]"
      ]
     },
     "execution_count": 17,
     "metadata": {},
     "output_type": "execute_result"
    }
   ],
   "source": [
    "merged.head()"
   ]
  },
  {
   "cell_type": "markdown",
   "id": "064519a6",
   "metadata": {},
   "source": [
    "PII sensitive data are following columns : First_name, last_name, age, fam_status, income. We would want to point this out before we start doing anything with the data, so to make sure right approach is taking place i.e. delete these columns, replace them etc"
   ]
  },
  {
   "cell_type": "markdown",
   "id": "506cfc4a",
   "metadata": {},
   "source": [
    "# 4. Assign regions"
   ]
  },
  {
   "cell_type": "code",
   "execution_count": 10,
   "id": "936c629c",
   "metadata": {},
   "outputs": [],
   "source": [
    "# previously I used loc and conditions to do this. It took a lot of time. Now I will create lists\n",
    "\n",
    "Northeast=['Maine','New Hampshire','Vermont','Massachusetts','Rhode Island','Connecticut','New York','Pennsylvania','New Jersey']\n",
    "West=['Idaho','Montana','Wyoming','Nevada','Utah','Colorado','Arizona','New Mexico','Alaska','Washington','Oregon','California','Hawaii']\n",
    "South=['Delaware','Maryland','District of Columbia','Virginia','West Virginia','North Carolina','South Carolina','Georgia','Florida','Kentucky', 'Tennessee','Mississippi','Alabama','Oklahoma','Texas','Arkansas','Louisiana']\n",
    "Midwest=['Wisconsin','Michigan','Illinois','Indiana','Ohio','North Dakota','South Dakota','Nebraska','Kansas','Minnesota','Iowa','Missouri']\n"
   ]
  },
  {
   "cell_type": "code",
   "execution_count": 11,
   "id": "6d612392",
   "metadata": {},
   "outputs": [],
   "source": [
    "# Create flags for each region\n",
    "\n",
    "#Creating regional flags\n",
    "merged.loc[merged['state'].isin(Northeast), 'region']='Northeast'\n",
    "merged.loc[merged['state'].isin(West), 'region']='West'\n",
    "merged.loc[merged['state'].isin(South), 'region']='South'\n",
    "merged.loc[merged['state'].isin(Midwest), 'region']='Midwest'\n"
   ]
  },
  {
   "cell_type": "code",
   "execution_count": 22,
   "id": "7b705c4c",
   "metadata": {},
   "outputs": [
    {
     "data": {
      "text/plain": [
       "(32404859, 34)"
      ]
     },
     "execution_count": 22,
     "metadata": {},
     "output_type": "execute_result"
    }
   ],
   "source": [
    "merged.shape"
   ]
  },
  {
   "cell_type": "code",
   "execution_count": 23,
   "id": "e95a096b",
   "metadata": {},
   "outputs": [
    {
     "data": {
      "text/plain": [
       "South        10791885\n",
       "West          8292913\n",
       "Midwest       7597325\n",
       "Northeast     5722736\n",
       "Name: region, dtype: int64"
      ]
     },
     "execution_count": 23,
     "metadata": {},
     "output_type": "execute_result"
    }
   ],
   "source": [
    "merged['region'].value_counts(dropna=False)"
   ]
  },
  {
   "cell_type": "code",
   "execution_count": 12,
   "id": "7eee8fda",
   "metadata": {},
   "outputs": [],
   "source": [
    "#create a new dataframe with columns region and spender_flag\n",
    "df_regions = merged[['region', 'Spender_flag']]"
   ]
  },
  {
   "cell_type": "code",
   "execution_count": 13,
   "id": "6deb7a85",
   "metadata": {},
   "outputs": [
    {
     "data": {
      "text/html": [
       "<div>\n",
       "<style scoped>\n",
       "    .dataframe tbody tr th:only-of-type {\n",
       "        vertical-align: middle;\n",
       "    }\n",
       "\n",
       "    .dataframe tbody tr th {\n",
       "        vertical-align: top;\n",
       "    }\n",
       "\n",
       "    .dataframe thead tr th {\n",
       "        text-align: left;\n",
       "    }\n",
       "\n",
       "    .dataframe thead tr:last-of-type th {\n",
       "        text-align: right;\n",
       "    }\n",
       "</style>\n",
       "<table border=\"1\" class=\"dataframe\">\n",
       "  <thead>\n",
       "    <tr>\n",
       "      <th></th>\n",
       "      <th></th>\n",
       "      <th>Spender_flag</th>\n",
       "    </tr>\n",
       "    <tr>\n",
       "      <th></th>\n",
       "      <th></th>\n",
       "      <th>count</th>\n",
       "    </tr>\n",
       "    <tr>\n",
       "      <th>region</th>\n",
       "      <th>Spender_flag</th>\n",
       "      <th></th>\n",
       "    </tr>\n",
       "  </thead>\n",
       "  <tbody>\n",
       "    <tr>\n",
       "      <th rowspan=\"2\" valign=\"top\">Midwest</th>\n",
       "      <th>High Spender</th>\n",
       "      <td>155932</td>\n",
       "    </tr>\n",
       "    <tr>\n",
       "      <th>Low Spender</th>\n",
       "      <td>7441350</td>\n",
       "    </tr>\n",
       "    <tr>\n",
       "      <th rowspan=\"2\" valign=\"top\">Northeast</th>\n",
       "      <th>High Spender</th>\n",
       "      <td>108180</td>\n",
       "    </tr>\n",
       "    <tr>\n",
       "      <th>Low Spender</th>\n",
       "      <td>5614511</td>\n",
       "    </tr>\n",
       "    <tr>\n",
       "      <th rowspan=\"2\" valign=\"top\">South</th>\n",
       "      <th>High Spender</th>\n",
       "      <td>209481</td>\n",
       "    </tr>\n",
       "    <tr>\n",
       "      <th>Low Spender</th>\n",
       "      <td>10582194</td>\n",
       "    </tr>\n",
       "    <tr>\n",
       "      <th rowspan=\"2\" valign=\"top\">West</th>\n",
       "      <th>High Spender</th>\n",
       "      <td>160271</td>\n",
       "    </tr>\n",
       "    <tr>\n",
       "      <th>Low Spender</th>\n",
       "      <td>8132559</td>\n",
       "    </tr>\n",
       "  </tbody>\n",
       "</table>\n",
       "</div>"
      ],
      "text/plain": [
       "                       Spender_flag\n",
       "                              count\n",
       "region    Spender_flag             \n",
       "Midwest   High Spender       155932\n",
       "          Low Spender       7441350\n",
       "Northeast High Spender       108180\n",
       "          Low Spender       5614511\n",
       "South     High Spender       209481\n",
       "          Low Spender      10582194\n",
       "West      High Spender       160271\n",
       "          Low Spender       8132559"
      ]
     },
     "execution_count": 13,
     "metadata": {},
     "output_type": "execute_result"
    }
   ],
   "source": [
    "# aggregate regions based on count in spender_flag\n",
    "df_regions.groupby(['region', 'Spender_flag']).agg({'Spender_flag': ['count']})"
   ]
  },
  {
   "cell_type": "code",
   "execution_count": 27,
   "id": "f441a6aa",
   "metadata": {},
   "outputs": [
    {
     "data": {
      "text/plain": [
       "region\n",
       "Midwest      12\n",
       "Northeast     9\n",
       "South        17\n",
       "West         13\n",
       "Name: state, dtype: int64"
      ]
     },
     "execution_count": 27,
     "metadata": {},
     "output_type": "execute_result"
    }
   ],
   "source": [
    "# Stats in each region to compare to the Spender_flag above\n",
    "merged.groupby('region')['state'].nunique()"
   ]
  },
  {
   "cell_type": "markdown",
   "id": "9e6af3a2",
   "metadata": {},
   "source": [
    "#### Each region has many more low spenders than high spenders, that was expected.  South has the most high spenders and also the most low spenders. That can be because there are more states in the South than anywhere else."
   ]
  },
  {
   "cell_type": "code",
   "execution_count": 14,
   "id": "9c6b8a0f",
   "metadata": {},
   "outputs": [],
   "source": [
    "# delete regions dataframe\n",
    "del df_regions"
   ]
  },
  {
   "cell_type": "markdown",
   "id": "e0a2a5b2",
   "metadata": {},
   "source": [
    "# 5. Flag and exclude customers with less than 5 orders"
   ]
  },
  {
   "cell_type": "code",
   "execution_count": 15,
   "id": "46605661",
   "metadata": {},
   "outputs": [],
   "source": [
    "# use loc to locate this condtion and create a new column, with flagged customers\n",
    "merged.loc[merged['max_order'] < 5, 'Low Spender'] = 'YES'\n",
    "merged.loc[merged['max_order'] >= 5, 'Low Spender'] = 'NO'"
   ]
  },
  {
   "cell_type": "code",
   "execution_count": 16,
   "id": "9bd954c3",
   "metadata": {},
   "outputs": [
    {
     "data": {
      "text/plain": [
       "NO     30964564\n",
       "YES     1440295\n",
       "Name: Low Spender, dtype: int64"
      ]
     },
     "execution_count": 16,
     "metadata": {},
     "output_type": "execute_result"
    }
   ],
   "source": [
    "merged['Low Spender'].value_counts(dropna=False)"
   ]
  },
  {
   "cell_type": "code",
   "execution_count": 17,
   "id": "3fcd5cf1",
   "metadata": {},
   "outputs": [],
   "source": [
    "# create a dataset with customers who order less than 5 items\n",
    "low_spenders=merged[merged['Low Spender']== 'YES']"
   ]
  },
  {
   "cell_type": "code",
   "execution_count": 18,
   "id": "4a6a9eba",
   "metadata": {},
   "outputs": [],
   "source": [
    "#Exporting low_spenders dataset\n",
    "low_spenders.to_pickle(os.path.join(path, '02 Data', 'Prepared Data', 'low_spenders.pkl'))"
   ]
  },
  {
   "cell_type": "code",
   "execution_count": 19,
   "id": "047dd332",
   "metadata": {},
   "outputs": [],
   "source": [
    "# delete low_spenders\n",
    "del low_spenders"
   ]
  },
  {
   "cell_type": "code",
   "execution_count": 20,
   "id": "77bbcd6e",
   "metadata": {},
   "outputs": [],
   "source": [
    "# create a new dataset with customers who order more than 5 items \n",
    "iloveyou=merged[merged['Low Spender']=='NO']"
   ]
  },
  {
   "cell_type": "code",
   "execution_count": 21,
   "id": "a81da4a7",
   "metadata": {},
   "outputs": [
    {
     "data": {
      "text/plain": [
       "(30964564, 35)"
      ]
     },
     "execution_count": 21,
     "metadata": {},
     "output_type": "execute_result"
    }
   ],
   "source": [
    "iloveyou.shape"
   ]
  },
  {
   "cell_type": "code",
   "execution_count": 22,
   "id": "a1804145",
   "metadata": {},
   "outputs": [],
   "source": [
    "# delete main dataset to reduce memory\n",
    "del merged"
   ]
  },
  {
   "cell_type": "code",
   "execution_count": 23,
   "id": "a106a440",
   "metadata": {},
   "outputs": [],
   "source": [
    "# export iloveyou\n",
    "iloveyou.to_pickle(os.path.join(path, '02 Data', 'Prepared Data', 'iloveyou.pkl'))"
   ]
  },
  {
   "cell_type": "markdown",
   "id": "e199da8d",
   "metadata": {},
   "source": [
    "# 6. Creating customer profiles"
   ]
  },
  {
   "cell_type": "markdown",
   "id": "725b5ee9",
   "metadata": {},
   "source": [
    "## 6a. Age profile "
   ]
  },
  {
   "cell_type": "markdown",
   "id": "99aff097",
   "metadata": {},
   "source": [
    "There are 3 profiles as follows. Young have age < 30 Middle age have 30 <= age < 65, old folks have age <= 65 "
   ]
  },
  {
   "cell_type": "code",
   "execution_count": 24,
   "id": "d20a812e",
   "metadata": {},
   "outputs": [],
   "source": [
    "# Profiling\n",
    "iloveyou.loc[iloveyou['age']<30, 'age_profile']='Young'\n",
    "iloveyou.loc[(iloveyou['age']>=30) & (iloveyou['age']<65), 'age_profile']='Middle aged'\n",
    "iloveyou.loc[iloveyou['age']>=65, 'age_profile']='Old folks'"
   ]
  },
  {
   "cell_type": "code",
   "execution_count": 25,
   "id": "329b5b33",
   "metadata": {},
   "outputs": [
    {
     "data": {
      "text/plain": [
       "Middle aged    16951417\n",
       "Old folks       8195544\n",
       "Young           5817603\n",
       "Name: age_profile, dtype: int64"
      ]
     },
     "execution_count": 25,
     "metadata": {},
     "output_type": "execute_result"
    }
   ],
   "source": [
    "# check value counts for each group\n",
    "iloveyou['age_profile'].value_counts(dropna=False)"
   ]
  },
  {
   "cell_type": "markdown",
   "id": "e6a0ba49",
   "metadata": {},
   "source": [
    "## 6b. Income profile"
   ]
  },
  {
   "cell_type": "markdown",
   "id": "5a8c0d58",
   "metadata": {},
   "source": [
    "Based on division of income in US; Low = less than 52,250. Middle = 52,250 - 156,000. High = more than $156,000"
   ]
  },
  {
   "cell_type": "code",
   "execution_count": 26,
   "id": "aafc905e",
   "metadata": {},
   "outputs": [],
   "source": [
    "iloveyou.loc[iloveyou['income']<52250, 'income_profile']='Low income'\n",
    "iloveyou.loc[(iloveyou['income']>=52250) & (iloveyou['income']<156000), 'income_profile']='Middle income'\n",
    "iloveyou.loc[iloveyou['income']>=156000, 'income_profile']='High income'"
   ]
  },
  {
   "cell_type": "code",
   "execution_count": 27,
   "id": "6c27a787",
   "metadata": {},
   "outputs": [
    {
     "data": {
      "text/plain": [
       "Middle income    24413893\n",
       "Low income        3709025\n",
       "High income       2841646\n",
       "Name: income_profile, dtype: int64"
      ]
     },
     "execution_count": 27,
     "metadata": {},
     "output_type": "execute_result"
    }
   ],
   "source": [
    "# check value counts\n",
    "iloveyou['income_profile'].value_counts(dropna=False)"
   ]
  },
  {
   "cell_type": "markdown",
   "id": "ce53fc9b",
   "metadata": {},
   "source": [
    "## 6c. Number of dependants profile"
   ]
  },
  {
   "cell_type": "markdown",
   "id": "cd357697",
   "metadata": {},
   "source": [
    "Either has dependants (1+) or has no dependants"
   ]
  },
  {
   "cell_type": "code",
   "execution_count": 28,
   "id": "1a5e1579",
   "metadata": {},
   "outputs": [],
   "source": [
    "# creating flags  \n",
    "iloveyou.loc[iloveyou['n_dependants']>0, 'dependant_profile']='dependants'\n",
    "iloveyou.loc[iloveyou['n_dependants']==0,'dependant_profile']='no dependants'\n"
   ]
  },
  {
   "cell_type": "code",
   "execution_count": 29,
   "id": "a53718e9",
   "metadata": {},
   "outputs": [
    {
     "data": {
      "text/plain": [
       "dependants       23224883\n",
       "no dependants     7739681\n",
       "Name: dependant_profile, dtype: int64"
      ]
     },
     "execution_count": 29,
     "metadata": {},
     "output_type": "execute_result"
    }
   ],
   "source": [
    "# check values \n",
    "iloveyou['dependant_profile'].value_counts(dropna=False)"
   ]
  },
  {
   "cell_type": "markdown",
   "id": "0ffb4f08",
   "metadata": {},
   "source": [
    "## 6d Deparmetns profiles"
   ]
  },
  {
   "cell_type": "code",
   "execution_count": 30,
   "id": "cebda882",
   "metadata": {},
   "outputs": [
    {
     "data": {
      "text/plain": [
       "produce            9079273\n",
       "dairy eggs         5177182\n",
       "snacks             2766406\n",
       "beverages          2571901\n",
       "frozen             2121731\n",
       "pantry             1782705\n",
       "bakery             1120828\n",
       "canned goods       1012074\n",
       "deli               1003834\n",
       "dry goods pasta     822136\n",
       "household           699857\n",
       "meat seafood        674781\n",
       "breakfast           670850\n",
       "personal care       424306\n",
       "babies              410392\n",
       "international       255991\n",
       "alcohol             144627\n",
       "pets                 93060\n",
       "missing              64768\n",
       "other                34411\n",
       "bulk                 33451\n",
       "Name: department, dtype: int64"
      ]
     },
     "execution_count": 30,
     "metadata": {},
     "output_type": "execute_result"
    }
   ],
   "source": [
    "iloveyou['department'].value_counts()"
   ]
  },
  {
   "cell_type": "markdown",
   "id": "bb7ef1ae",
   "metadata": {},
   "source": [
    "### Alcohol drinker profile"
   ]
  },
  {
   "cell_type": "code",
   "execution_count": 31,
   "id": "53b0b655",
   "metadata": {},
   "outputs": [],
   "source": [
    "# Alcohol drinker if bought alcohol 1x (1) or not (0)\n",
    "iloveyou['alcohol_flag']=[1 if x=='alcohol' else 0 for x in iloveyou['department']]\n",
    "iloveyou['alcohol_flag']=iloveyou.groupby(['user_id'])['alcohol_flag'].transform(np.max)\n"
   ]
  },
  {
   "cell_type": "code",
   "execution_count": 32,
   "id": "c4505c90",
   "metadata": {},
   "outputs": [
    {
     "data": {
      "text/plain": [
       "0    28634074\n",
       "1     2330490\n",
       "Name: alcohol_flag, dtype: int64"
      ]
     },
     "execution_count": 32,
     "metadata": {},
     "output_type": "execute_result"
    }
   ],
   "source": [
    "#check values\n",
    "iloveyou['alcohol_flag'].value_counts(dropna=False)"
   ]
  },
  {
   "cell_type": "markdown",
   "id": "5f1e55e7",
   "metadata": {},
   "source": [
    "### International buyer profile"
   ]
  },
  {
   "cell_type": "code",
   "execution_count": 33,
   "id": "acc96c33",
   "metadata": {},
   "outputs": [],
   "source": [
    "# International buyer if bought international item at least 1x (1) or not (0)\n",
    "iloveyou['international_flag']=[1 if x=='international' else 0 for x in iloveyou['department']]\n",
    "iloveyou['international_flag']=iloveyou.groupby(['user_id'])['international_flag'].transform(np.max)"
   ]
  },
  {
   "cell_type": "code",
   "execution_count": 34,
   "id": "228e313e",
   "metadata": {},
   "outputs": [
    {
     "data": {
      "text/plain": [
       "1    19161614\n",
       "0    11802950\n",
       "Name: international_flag, dtype: int64"
      ]
     },
     "execution_count": 34,
     "metadata": {},
     "output_type": "execute_result"
    }
   ],
   "source": [
    "# check values\n",
    "iloveyou['international_flag'].value_counts(dropna=False)"
   ]
  },
  {
   "cell_type": "markdown",
   "id": "0222c7e4",
   "metadata": {},
   "source": [
    "### Baby stuff buyer profile"
   ]
  },
  {
   "cell_type": "code",
   "execution_count": 35,
   "id": "717e04c3",
   "metadata": {},
   "outputs": [],
   "source": [
    "# Baby stuff buyer if bought baby stuff(1) or not (0)\n",
    "iloveyou['baby_flag'] = [1 if x == 'babies' else 0 for x in iloveyou['department']]\n",
    "iloveyou['baby_flag']=iloveyou.groupby(['user_id'])['baby_flag'].transform(np.max)\n"
   ]
  },
  {
   "cell_type": "code",
   "execution_count": 36,
   "id": "a7c88a33",
   "metadata": {},
   "outputs": [
    {
     "data": {
      "text/plain": [
       "0    21154311\n",
       "1     9810253\n",
       "Name: baby_flag, dtype: int64"
      ]
     },
     "execution_count": 36,
     "metadata": {},
     "output_type": "execute_result"
    }
   ],
   "source": [
    "# check values\n",
    "iloveyou['baby_flag'].value_counts(dropna=False)"
   ]
  },
  {
   "cell_type": "markdown",
   "id": "02bf66ce",
   "metadata": {},
   "source": [
    "# 7. Aggregate max, mean, and min variables on a customer-profile level for usage frequency and expenditure"
   ]
  },
  {
   "cell_type": "markdown",
   "id": "61d35120",
   "metadata": {},
   "source": [
    "## 7a Age aggregation"
   ]
  },
  {
   "cell_type": "code",
   "execution_count": 37,
   "id": "c98e6899",
   "metadata": {},
   "outputs": [
    {
     "data": {
      "text/html": [
       "<div>\n",
       "<style scoped>\n",
       "    .dataframe tbody tr th:only-of-type {\n",
       "        vertical-align: middle;\n",
       "    }\n",
       "\n",
       "    .dataframe tbody tr th {\n",
       "        vertical-align: top;\n",
       "    }\n",
       "\n",
       "    .dataframe thead tr th {\n",
       "        text-align: left;\n",
       "    }\n",
       "\n",
       "    .dataframe thead tr:last-of-type th {\n",
       "        text-align: right;\n",
       "    }\n",
       "</style>\n",
       "<table border=\"1\" class=\"dataframe\">\n",
       "  <thead>\n",
       "    <tr>\n",
       "      <th></th>\n",
       "      <th colspan=\"3\" halign=\"left\">order_frequency</th>\n",
       "      <th colspan=\"3\" halign=\"left\">prices</th>\n",
       "    </tr>\n",
       "    <tr>\n",
       "      <th></th>\n",
       "      <th>mean</th>\n",
       "      <th>min</th>\n",
       "      <th>max</th>\n",
       "      <th>mean</th>\n",
       "      <th>min</th>\n",
       "      <th>max</th>\n",
       "    </tr>\n",
       "    <tr>\n",
       "      <th>age_profile</th>\n",
       "      <th></th>\n",
       "      <th></th>\n",
       "      <th></th>\n",
       "      <th></th>\n",
       "      <th></th>\n",
       "      <th></th>\n",
       "    </tr>\n",
       "  </thead>\n",
       "  <tbody>\n",
       "    <tr>\n",
       "      <th>Middle aged</th>\n",
       "      <td>9.973800</td>\n",
       "      <td>0.0</td>\n",
       "      <td>30.0</td>\n",
       "      <td>11.927488</td>\n",
       "      <td>1.0</td>\n",
       "      <td>99999.0</td>\n",
       "    </tr>\n",
       "    <tr>\n",
       "      <th>Old folks</th>\n",
       "      <td>9.933025</td>\n",
       "      <td>0.0</td>\n",
       "      <td>30.0</td>\n",
       "      <td>11.757768</td>\n",
       "      <td>1.0</td>\n",
       "      <td>99999.0</td>\n",
       "    </tr>\n",
       "    <tr>\n",
       "      <th>Young</th>\n",
       "      <td>9.942566</td>\n",
       "      <td>0.0</td>\n",
       "      <td>30.0</td>\n",
       "      <td>12.198693</td>\n",
       "      <td>1.0</td>\n",
       "      <td>99999.0</td>\n",
       "    </tr>\n",
       "  </tbody>\n",
       "</table>\n",
       "</div>"
      ],
      "text/plain": [
       "            order_frequency                prices              \n",
       "                       mean  min   max       mean  min      max\n",
       "age_profile                                                    \n",
       "Middle aged        9.973800  0.0  30.0  11.927488  1.0  99999.0\n",
       "Old folks          9.933025  0.0  30.0  11.757768  1.0  99999.0\n",
       "Young              9.942566  0.0  30.0  12.198693  1.0  99999.0"
      ]
     },
     "execution_count": 37,
     "metadata": {},
     "output_type": "execute_result"
    }
   ],
   "source": [
    "# Aggregating max, min, mean\n",
    "iloveyou.groupby(['age_profile']).agg({'order_frequency':['mean', 'min', 'max'], 'prices':['mean', 'min', 'max']})"
   ]
  },
  {
   "cell_type": "code",
   "execution_count": 38,
   "id": "277eca0f",
   "metadata": {},
   "outputs": [],
   "source": [
    "# prices are wrong, fix it by marking them NaN\n",
    "iloveyou.loc[iloveyou['prices'] >100, 'prices'] = np.nan"
   ]
  },
  {
   "cell_type": "code",
   "execution_count": 40,
   "id": "6c843384",
   "metadata": {},
   "outputs": [
    {
     "data": {
      "text/html": [
       "<div>\n",
       "<style scoped>\n",
       "    .dataframe tbody tr th:only-of-type {\n",
       "        vertical-align: middle;\n",
       "    }\n",
       "\n",
       "    .dataframe tbody tr th {\n",
       "        vertical-align: top;\n",
       "    }\n",
       "\n",
       "    .dataframe thead tr th {\n",
       "        text-align: left;\n",
       "    }\n",
       "\n",
       "    .dataframe thead tr:last-of-type th {\n",
       "        text-align: right;\n",
       "    }\n",
       "</style>\n",
       "<table border=\"1\" class=\"dataframe\">\n",
       "  <thead>\n",
       "    <tr>\n",
       "      <th></th>\n",
       "      <th colspan=\"3\" halign=\"left\">order_frequency</th>\n",
       "      <th colspan=\"3\" halign=\"left\">prices</th>\n",
       "    </tr>\n",
       "    <tr>\n",
       "      <th></th>\n",
       "      <th>mean</th>\n",
       "      <th>min</th>\n",
       "      <th>max</th>\n",
       "      <th>mean</th>\n",
       "      <th>min</th>\n",
       "      <th>max</th>\n",
       "    </tr>\n",
       "    <tr>\n",
       "      <th>age_profile</th>\n",
       "      <th></th>\n",
       "      <th></th>\n",
       "      <th></th>\n",
       "      <th></th>\n",
       "      <th></th>\n",
       "      <th></th>\n",
       "    </tr>\n",
       "  </thead>\n",
       "  <tbody>\n",
       "    <tr>\n",
       "      <th>Middle aged</th>\n",
       "      <td>9.973800</td>\n",
       "      <td>0.0</td>\n",
       "      <td>30.0</td>\n",
       "      <td>7.790509</td>\n",
       "      <td>1.0</td>\n",
       "      <td>25.0</td>\n",
       "    </tr>\n",
       "    <tr>\n",
       "      <th>Old folks</th>\n",
       "      <td>9.933025</td>\n",
       "      <td>0.0</td>\n",
       "      <td>30.0</td>\n",
       "      <td>7.796715</td>\n",
       "      <td>1.0</td>\n",
       "      <td>25.0</td>\n",
       "    </tr>\n",
       "    <tr>\n",
       "      <th>Young</th>\n",
       "      <td>9.942566</td>\n",
       "      <td>0.0</td>\n",
       "      <td>30.0</td>\n",
       "      <td>7.782198</td>\n",
       "      <td>1.0</td>\n",
       "      <td>25.0</td>\n",
       "    </tr>\n",
       "  </tbody>\n",
       "</table>\n",
       "</div>"
      ],
      "text/plain": [
       "            order_frequency               prices           \n",
       "                       mean  min   max      mean  min   max\n",
       "age_profile                                                \n",
       "Middle aged        9.973800  0.0  30.0  7.790509  1.0  25.0\n",
       "Old folks          9.933025  0.0  30.0  7.796715  1.0  25.0\n",
       "Young              9.942566  0.0  30.0  7.782198  1.0  25.0"
      ]
     },
     "execution_count": 40,
     "metadata": {},
     "output_type": "execute_result"
    }
   ],
   "source": [
    "# run aggregate again\n",
    "iloveyou.groupby(['age_profile']).agg({'order_frequency':['mean', 'min', 'max'], 'prices':['mean', 'min', 'max']})"
   ]
  },
  {
   "cell_type": "markdown",
   "id": "c0ce8877",
   "metadata": {},
   "source": [
    "## 7b Income aggregation"
   ]
  },
  {
   "cell_type": "code",
   "execution_count": 41,
   "id": "ffc722fd",
   "metadata": {},
   "outputs": [
    {
     "data": {
      "text/html": [
       "<div>\n",
       "<style scoped>\n",
       "    .dataframe tbody tr th:only-of-type {\n",
       "        vertical-align: middle;\n",
       "    }\n",
       "\n",
       "    .dataframe tbody tr th {\n",
       "        vertical-align: top;\n",
       "    }\n",
       "\n",
       "    .dataframe thead tr th {\n",
       "        text-align: left;\n",
       "    }\n",
       "\n",
       "    .dataframe thead tr:last-of-type th {\n",
       "        text-align: right;\n",
       "    }\n",
       "</style>\n",
       "<table border=\"1\" class=\"dataframe\">\n",
       "  <thead>\n",
       "    <tr>\n",
       "      <th></th>\n",
       "      <th colspan=\"3\" halign=\"left\">order_frequency</th>\n",
       "      <th colspan=\"3\" halign=\"left\">prices</th>\n",
       "    </tr>\n",
       "    <tr>\n",
       "      <th></th>\n",
       "      <th>mean</th>\n",
       "      <th>min</th>\n",
       "      <th>max</th>\n",
       "      <th>mean</th>\n",
       "      <th>min</th>\n",
       "      <th>max</th>\n",
       "    </tr>\n",
       "    <tr>\n",
       "      <th>income_profile</th>\n",
       "      <th></th>\n",
       "      <th></th>\n",
       "      <th></th>\n",
       "      <th></th>\n",
       "      <th></th>\n",
       "      <th></th>\n",
       "    </tr>\n",
       "  </thead>\n",
       "  <tbody>\n",
       "    <tr>\n",
       "      <th>High income</th>\n",
       "      <td>9.771593</td>\n",
       "      <td>0.0</td>\n",
       "      <td>30.0</td>\n",
       "      <td>7.937780</td>\n",
       "      <td>1.0</td>\n",
       "      <td>25.0</td>\n",
       "    </tr>\n",
       "    <tr>\n",
       "      <th>Low income</th>\n",
       "      <td>10.471062</td>\n",
       "      <td>0.0</td>\n",
       "      <td>30.0</td>\n",
       "      <td>6.770280</td>\n",
       "      <td>1.0</td>\n",
       "      <td>25.0</td>\n",
       "    </tr>\n",
       "    <tr>\n",
       "      <th>Middle income</th>\n",
       "      <td>9.900660</td>\n",
       "      <td>0.0</td>\n",
       "      <td>30.0</td>\n",
       "      <td>7.928495</td>\n",
       "      <td>1.0</td>\n",
       "      <td>25.0</td>\n",
       "    </tr>\n",
       "  </tbody>\n",
       "</table>\n",
       "</div>"
      ],
      "text/plain": [
       "               order_frequency               prices           \n",
       "                          mean  min   max      mean  min   max\n",
       "income_profile                                                \n",
       "High income           9.771593  0.0  30.0  7.937780  1.0  25.0\n",
       "Low income           10.471062  0.0  30.0  6.770280  1.0  25.0\n",
       "Middle income         9.900660  0.0  30.0  7.928495  1.0  25.0"
      ]
     },
     "execution_count": 41,
     "metadata": {},
     "output_type": "execute_result"
    }
   ],
   "source": [
    "# Aggregating max, min, mean\n",
    "iloveyou.groupby(['income_profile']).agg({'order_frequency':['mean', 'min', 'max'], 'prices':['mean', 'min', 'max']})"
   ]
  },
  {
   "cell_type": "markdown",
   "id": "9891a76f",
   "metadata": {},
   "source": [
    "## 7c Dependants aggregation"
   ]
  },
  {
   "cell_type": "code",
   "execution_count": 42,
   "id": "590c0db5",
   "metadata": {},
   "outputs": [
    {
     "data": {
      "text/html": [
       "<div>\n",
       "<style scoped>\n",
       "    .dataframe tbody tr th:only-of-type {\n",
       "        vertical-align: middle;\n",
       "    }\n",
       "\n",
       "    .dataframe tbody tr th {\n",
       "        vertical-align: top;\n",
       "    }\n",
       "\n",
       "    .dataframe thead tr th {\n",
       "        text-align: left;\n",
       "    }\n",
       "\n",
       "    .dataframe thead tr:last-of-type th {\n",
       "        text-align: right;\n",
       "    }\n",
       "</style>\n",
       "<table border=\"1\" class=\"dataframe\">\n",
       "  <thead>\n",
       "    <tr>\n",
       "      <th></th>\n",
       "      <th colspan=\"3\" halign=\"left\">order_frequency</th>\n",
       "      <th colspan=\"3\" halign=\"left\">prices</th>\n",
       "    </tr>\n",
       "    <tr>\n",
       "      <th></th>\n",
       "      <th>mean</th>\n",
       "      <th>min</th>\n",
       "      <th>max</th>\n",
       "      <th>mean</th>\n",
       "      <th>min</th>\n",
       "      <th>max</th>\n",
       "    </tr>\n",
       "    <tr>\n",
       "      <th>dependant_profile</th>\n",
       "      <th></th>\n",
       "      <th></th>\n",
       "      <th></th>\n",
       "      <th></th>\n",
       "      <th></th>\n",
       "      <th></th>\n",
       "    </tr>\n",
       "  </thead>\n",
       "  <tbody>\n",
       "    <tr>\n",
       "      <th>dependants</th>\n",
       "      <td>9.963995</td>\n",
       "      <td>0.0</td>\n",
       "      <td>30.0</td>\n",
       "      <td>7.790937</td>\n",
       "      <td>1.0</td>\n",
       "      <td>25.0</td>\n",
       "    </tr>\n",
       "    <tr>\n",
       "      <th>no dependants</th>\n",
       "      <td>9.936569</td>\n",
       "      <td>0.0</td>\n",
       "      <td>30.0</td>\n",
       "      <td>7.789550</td>\n",
       "      <td>1.0</td>\n",
       "      <td>25.0</td>\n",
       "    </tr>\n",
       "  </tbody>\n",
       "</table>\n",
       "</div>"
      ],
      "text/plain": [
       "                  order_frequency               prices           \n",
       "                             mean  min   max      mean  min   max\n",
       "dependant_profile                                                \n",
       "dependants               9.963995  0.0  30.0  7.790937  1.0  25.0\n",
       "no dependants            9.936569  0.0  30.0  7.789550  1.0  25.0"
      ]
     },
     "execution_count": 42,
     "metadata": {},
     "output_type": "execute_result"
    }
   ],
   "source": [
    "# Aggregating max, min, mean\n",
    "iloveyou.groupby(['dependant_profile']).agg({'order_frequency':['mean', 'min', 'max'], 'prices':['mean', 'min', 'max']})"
   ]
  },
  {
   "cell_type": "markdown",
   "id": "ea5b92c6",
   "metadata": {},
   "source": [
    "## 7d Department aggregations"
   ]
  },
  {
   "cell_type": "markdown",
   "id": "0145ad2d",
   "metadata": {},
   "source": [
    "### Alcohol drinker"
   ]
  },
  {
   "cell_type": "code",
   "execution_count": 43,
   "id": "449e4830",
   "metadata": {},
   "outputs": [
    {
     "data": {
      "text/html": [
       "<div>\n",
       "<style scoped>\n",
       "    .dataframe tbody tr th:only-of-type {\n",
       "        vertical-align: middle;\n",
       "    }\n",
       "\n",
       "    .dataframe tbody tr th {\n",
       "        vertical-align: top;\n",
       "    }\n",
       "\n",
       "    .dataframe thead tr th {\n",
       "        text-align: left;\n",
       "    }\n",
       "\n",
       "    .dataframe thead tr:last-of-type th {\n",
       "        text-align: right;\n",
       "    }\n",
       "</style>\n",
       "<table border=\"1\" class=\"dataframe\">\n",
       "  <thead>\n",
       "    <tr>\n",
       "      <th></th>\n",
       "      <th colspan=\"3\" halign=\"left\">order_frequency</th>\n",
       "      <th colspan=\"3\" halign=\"left\">prices</th>\n",
       "    </tr>\n",
       "    <tr>\n",
       "      <th></th>\n",
       "      <th>mean</th>\n",
       "      <th>min</th>\n",
       "      <th>max</th>\n",
       "      <th>mean</th>\n",
       "      <th>min</th>\n",
       "      <th>max</th>\n",
       "    </tr>\n",
       "    <tr>\n",
       "      <th>alcohol_flag</th>\n",
       "      <th></th>\n",
       "      <th></th>\n",
       "      <th></th>\n",
       "      <th></th>\n",
       "      <th></th>\n",
       "      <th></th>\n",
       "    </tr>\n",
       "  </thead>\n",
       "  <tbody>\n",
       "    <tr>\n",
       "      <th>0</th>\n",
       "      <td>9.977038</td>\n",
       "      <td>0.0</td>\n",
       "      <td>30.0</td>\n",
       "      <td>7.791490</td>\n",
       "      <td>1.0</td>\n",
       "      <td>25.0</td>\n",
       "    </tr>\n",
       "    <tr>\n",
       "      <th>1</th>\n",
       "      <td>9.712661</td>\n",
       "      <td>0.0</td>\n",
       "      <td>30.0</td>\n",
       "      <td>7.779533</td>\n",
       "      <td>1.0</td>\n",
       "      <td>25.0</td>\n",
       "    </tr>\n",
       "  </tbody>\n",
       "</table>\n",
       "</div>"
      ],
      "text/plain": [
       "             order_frequency               prices           \n",
       "                        mean  min   max      mean  min   max\n",
       "alcohol_flag                                                \n",
       "0                   9.977038  0.0  30.0  7.791490  1.0  25.0\n",
       "1                   9.712661  0.0  30.0  7.779533  1.0  25.0"
      ]
     },
     "execution_count": 43,
     "metadata": {},
     "output_type": "execute_result"
    }
   ],
   "source": [
    "# Aggregating max, min, mean\n",
    "iloveyou.groupby(['alcohol_flag']).agg({'order_frequency':['mean', 'min', 'max'], 'prices':['mean', 'min', 'max']})"
   ]
  },
  {
   "cell_type": "markdown",
   "id": "7e292670",
   "metadata": {},
   "source": [
    "### International items buyer"
   ]
  },
  {
   "cell_type": "code",
   "execution_count": 44,
   "id": "96055bd2",
   "metadata": {},
   "outputs": [
    {
     "data": {
      "text/html": [
       "<div>\n",
       "<style scoped>\n",
       "    .dataframe tbody tr th:only-of-type {\n",
       "        vertical-align: middle;\n",
       "    }\n",
       "\n",
       "    .dataframe tbody tr th {\n",
       "        vertical-align: top;\n",
       "    }\n",
       "\n",
       "    .dataframe thead tr th {\n",
       "        text-align: left;\n",
       "    }\n",
       "\n",
       "    .dataframe thead tr:last-of-type th {\n",
       "        text-align: right;\n",
       "    }\n",
       "</style>\n",
       "<table border=\"1\" class=\"dataframe\">\n",
       "  <thead>\n",
       "    <tr>\n",
       "      <th></th>\n",
       "      <th colspan=\"3\" halign=\"left\">order_frequency</th>\n",
       "      <th colspan=\"3\" halign=\"left\">prices</th>\n",
       "    </tr>\n",
       "    <tr>\n",
       "      <th></th>\n",
       "      <th>mean</th>\n",
       "      <th>min</th>\n",
       "      <th>max</th>\n",
       "      <th>mean</th>\n",
       "      <th>min</th>\n",
       "      <th>max</th>\n",
       "    </tr>\n",
       "    <tr>\n",
       "      <th>international_flag</th>\n",
       "      <th></th>\n",
       "      <th></th>\n",
       "      <th></th>\n",
       "      <th></th>\n",
       "      <th></th>\n",
       "      <th></th>\n",
       "    </tr>\n",
       "  </thead>\n",
       "  <tbody>\n",
       "    <tr>\n",
       "      <th>0</th>\n",
       "      <td>11.505910</td>\n",
       "      <td>0.0</td>\n",
       "      <td>30.0</td>\n",
       "      <td>7.716673</td>\n",
       "      <td>1.0</td>\n",
       "      <td>25.0</td>\n",
       "    </tr>\n",
       "    <tr>\n",
       "      <th>1</th>\n",
       "      <td>9.003146</td>\n",
       "      <td>0.0</td>\n",
       "      <td>30.0</td>\n",
       "      <td>7.836119</td>\n",
       "      <td>1.0</td>\n",
       "      <td>25.0</td>\n",
       "    </tr>\n",
       "  </tbody>\n",
       "</table>\n",
       "</div>"
      ],
      "text/plain": [
       "                   order_frequency               prices           \n",
       "                              mean  min   max      mean  min   max\n",
       "international_flag                                                \n",
       "0                        11.505910  0.0  30.0  7.716673  1.0  25.0\n",
       "1                         9.003146  0.0  30.0  7.836119  1.0  25.0"
      ]
     },
     "execution_count": 44,
     "metadata": {},
     "output_type": "execute_result"
    }
   ],
   "source": [
    "# Aggregating max, min, mean\n",
    "iloveyou.groupby(['international_flag']).agg({'order_frequency':['mean', 'min', 'max'], 'prices':['mean', 'min', 'max']})"
   ]
  },
  {
   "cell_type": "markdown",
   "id": "554c9d71",
   "metadata": {},
   "source": [
    "### Baby stuff buyer"
   ]
  },
  {
   "cell_type": "code",
   "execution_count": 45,
   "id": "4eb44ad5",
   "metadata": {},
   "outputs": [
    {
     "data": {
      "text/html": [
       "<div>\n",
       "<style scoped>\n",
       "    .dataframe tbody tr th:only-of-type {\n",
       "        vertical-align: middle;\n",
       "    }\n",
       "\n",
       "    .dataframe tbody tr th {\n",
       "        vertical-align: top;\n",
       "    }\n",
       "\n",
       "    .dataframe thead tr th {\n",
       "        text-align: left;\n",
       "    }\n",
       "\n",
       "    .dataframe thead tr:last-of-type th {\n",
       "        text-align: right;\n",
       "    }\n",
       "</style>\n",
       "<table border=\"1\" class=\"dataframe\">\n",
       "  <thead>\n",
       "    <tr>\n",
       "      <th></th>\n",
       "      <th colspan=\"3\" halign=\"left\">order_frequency</th>\n",
       "      <th colspan=\"3\" halign=\"left\">prices</th>\n",
       "    </tr>\n",
       "    <tr>\n",
       "      <th></th>\n",
       "      <th>mean</th>\n",
       "      <th>min</th>\n",
       "      <th>max</th>\n",
       "      <th>mean</th>\n",
       "      <th>min</th>\n",
       "      <th>max</th>\n",
       "    </tr>\n",
       "    <tr>\n",
       "      <th>baby_flag</th>\n",
       "      <th></th>\n",
       "      <th></th>\n",
       "      <th></th>\n",
       "      <th></th>\n",
       "      <th></th>\n",
       "      <th></th>\n",
       "    </tr>\n",
       "  </thead>\n",
       "  <tbody>\n",
       "    <tr>\n",
       "      <th>0</th>\n",
       "      <td>10.731215</td>\n",
       "      <td>0.0</td>\n",
       "      <td>30.0</td>\n",
       "      <td>7.770758</td>\n",
       "      <td>1.0</td>\n",
       "      <td>25.0</td>\n",
       "    </tr>\n",
       "    <tr>\n",
       "      <th>1</th>\n",
       "      <td>8.287965</td>\n",
       "      <td>0.0</td>\n",
       "      <td>30.0</td>\n",
       "      <td>7.833353</td>\n",
       "      <td>1.0</td>\n",
       "      <td>25.0</td>\n",
       "    </tr>\n",
       "  </tbody>\n",
       "</table>\n",
       "</div>"
      ],
      "text/plain": [
       "          order_frequency               prices           \n",
       "                     mean  min   max      mean  min   max\n",
       "baby_flag                                                \n",
       "0               10.731215  0.0  30.0  7.770758  1.0  25.0\n",
       "1                8.287965  0.0  30.0  7.833353  1.0  25.0"
      ]
     },
     "execution_count": 45,
     "metadata": {},
     "output_type": "execute_result"
    }
   ],
   "source": [
    "# Aggregating max, min, mean\n",
    "iloveyou.groupby(['baby_flag']).agg({'order_frequency':['mean', 'min', 'max'], 'prices':['mean', 'min', 'max']})"
   ]
  },
  {
   "cell_type": "code",
   "execution_count": 46,
   "id": "4854867f",
   "metadata": {},
   "outputs": [],
   "source": [
    "# Export iloveyou\n",
    "iloveyou.to_pickle(os.path.join(path, '02 Data', 'Prepared Data', 'iloveyou.pkl'))"
   ]
  },
  {
   "cell_type": "markdown",
   "id": "4715e9aa",
   "metadata": {},
   "source": [
    "# 8. Visualize distribution of profiles"
   ]
  },
  {
   "cell_type": "code",
   "execution_count": 47,
   "id": "d00650ae",
   "metadata": {},
   "outputs": [],
   "source": [
    "# Removing duplicate customers and creating a dataset with only unique users\n",
    "truthbetold=iloveyou.drop_duplicates(subset='user_id')"
   ]
  },
  {
   "cell_type": "code",
   "execution_count": 48,
   "id": "9fb0bbf8",
   "metadata": {},
   "outputs": [
    {
     "data": {
      "text/plain": [
       "(162631, 41)"
      ]
     },
     "execution_count": 48,
     "metadata": {},
     "output_type": "execute_result"
    }
   ],
   "source": [
    "truthbetold.shape"
   ]
  },
  {
   "cell_type": "markdown",
   "id": "9fe1c86f",
   "metadata": {},
   "source": [
    "## 8a Age profile"
   ]
  },
  {
   "cell_type": "code",
   "execution_count": 58,
   "id": "bdbc7db2",
   "metadata": {},
   "outputs": [
    {
     "data": {
      "text/plain": [
       "Text(0, 0.5, 'Number of Customers')"
      ]
     },
     "execution_count": 58,
     "metadata": {},
     "output_type": "execute_result"
    },
    {
     "data": {
      "image/png": "[encoded data removed]",
      "text/plain": [
       "<Figure size 2016x1080 with 1 Axes>"
      ]
     },
     "metadata": {},
     "output_type": "display_data"
    }
   ],
   "source": [
    "#Setting script figure size to 28,15\n",
    "sns.set(rc = {'figure.figsize':(28,15)})\n",
    "\n",
    "# Bar chart for age distribution of customers\n",
    "bargraph=truthbetold['age_profile'].value_counts().plot.bar(color='firebrick', fontsize=20)\n",
    "plt.title('Age distribution', fontsize=35, color = 'firebrick')\n",
    "plt.xlabel('Age Group', fontsize=25)\n",
    "plt.ylabel('Number of Customers', fontsize=25)"
   ]
  },
  {
   "cell_type": "code",
   "execution_count": 57,
   "id": "2a0bbf8d",
   "metadata": {},
   "outputs": [],
   "source": [
    "# Export bar chart\n",
    "bargraph.figure.savefig(os.path.join(path, '04 Analysis','Visualisations', 'age_distribution.png'))"
   ]
  },
  {
   "cell_type": "markdown",
   "id": "85894f1a",
   "metadata": {},
   "source": [
    "## 8b Income distribution"
   ]
  },
  {
   "cell_type": "code",
   "execution_count": 65,
   "id": "0229c5de",
   "metadata": {},
   "outputs": [
    {
     "data": {
      "text/plain": [
       "Text(0, 0.5, 'Income Group')"
      ]
     },
     "execution_count": 65,
     "metadata": {},
     "output_type": "execute_result"
    },
    {
     "data": {
      "image/png": "[encoded data removed]",
      "text/plain": [
       "<Figure size 2016x1080 with 1 Axes>"
      ]
     },
     "metadata": {},
     "output_type": "display_data"
    }
   ],
   "source": [
    "# Bar chart for age distribution of customers\n",
    "bar=truthbetold['income_profile'].value_counts().sort_values().plot.barh(color='lightsteelblue', fontsize=20)\n",
    "plt.title('Income distribution', fontsize=35)\n",
    "plt.xlabel('Number of Customers', fontsize=25)\n",
    "plt.ylabel('Income Group', fontsize=25)"
   ]
  },
  {
   "cell_type": "code",
   "execution_count": 66,
   "id": "70d9ed77",
   "metadata": {},
   "outputs": [],
   "source": [
    "# Export bar chart\n",
    "bar.figure.savefig(os.path.join(path, '04 Analysis','Visualisations', 'incomeH_distribution.png'))"
   ]
  },
  {
   "cell_type": "code",
   "execution_count": 72,
   "id": "6d6737cb",
   "metadata": {},
   "outputs": [
    {
     "data": {
      "text/plain": [
       "Text(0, 0.5, 'number of customers')"
      ]
     },
     "execution_count": 72,
     "metadata": {},
     "output_type": "execute_result"
    },
    {
     "data": {
      "image/png": "[encoded data removed]",
      "text/plain": [
       "<Figure size 2016x1080 with 1 Axes>"
      ]
     },
     "metadata": {},
     "output_type": "display_data"
    }
   ],
   "source": [
    "# historgram of income distribution\n",
    "hist=truthbetold['income'].plot.hist(bins=30, color='navajowhite')\n",
    "plt.title('Income distribution', fontsize=35)\n",
    "plt.xlabel('income', fontsize=25)\n",
    "plt.ylabel('number of customers', fontsize=25)"
   ]
  },
  {
   "cell_type": "code",
   "execution_count": 73,
   "id": "8e5b72de",
   "metadata": {},
   "outputs": [],
   "source": [
    "# Export histogram\n",
    "hist.figure.savefig(os.path.join(path, '04 Analysis','Visualisations', 'income_distribution_hist.png'))"
   ]
  },
  {
   "cell_type": "markdown",
   "id": "fe93b51f",
   "metadata": {},
   "source": [
    "## 8c Dependants distribution"
   ]
  },
  {
   "cell_type": "code",
   "execution_count": 75,
   "id": "590ac36d",
   "metadata": {},
   "outputs": [
    {
     "data": {
      "text/html": [
       "<div>\n",
       "<style scoped>\n",
       "    .dataframe tbody tr th:only-of-type {\n",
       "        vertical-align: middle;\n",
       "    }\n",
       "\n",
       "    .dataframe tbody tr th {\n",
       "        vertical-align: top;\n",
       "    }\n",
       "\n",
       "    .dataframe thead th {\n",
       "        text-align: right;\n",
       "    }\n",
       "</style>\n",
       "<table border=\"1\" class=\"dataframe\">\n",
       "  <thead>\n",
       "    <tr style=\"text-align: right;\">\n",
       "      <th>dependant_profile</th>\n",
       "      <th>dependants</th>\n",
       "      <th>no dependants</th>\n",
       "    </tr>\n",
       "    <tr>\n",
       "      <th>fam_status</th>\n",
       "      <th></th>\n",
       "      <th></th>\n",
       "    </tr>\n",
       "  </thead>\n",
       "  <tbody>\n",
       "    <tr>\n",
       "      <th>divorced/widowed</th>\n",
       "      <td>0</td>\n",
       "      <td>13831</td>\n",
       "    </tr>\n",
       "    <tr>\n",
       "      <th>living with parents and siblings</th>\n",
       "      <td>7608</td>\n",
       "      <td>0</td>\n",
       "    </tr>\n",
       "    <tr>\n",
       "      <th>married</th>\n",
       "      <td>114296</td>\n",
       "      <td>0</td>\n",
       "    </tr>\n",
       "    <tr>\n",
       "      <th>single</th>\n",
       "      <td>0</td>\n",
       "      <td>26896</td>\n",
       "    </tr>\n",
       "  </tbody>\n",
       "</table>\n",
       "</div>"
      ],
      "text/plain": [
       "dependant_profile                 dependants  no dependants\n",
       "fam_status                                                 \n",
       "divorced/widowed                           0          13831\n",
       "living with parents and siblings        7608              0\n",
       "married                               114296              0\n",
       "single                                     0          26896"
      ]
     },
     "execution_count": 75,
     "metadata": {},
     "output_type": "execute_result"
    }
   ],
   "source": [
    "# create a cross tab on number of dependants and family status. This will create a table which will be used to create visualization\n",
    "\n",
    "dependant=pd.crosstab(truthbetold['fam_status'], truthbetold['dependant_profile'])\n",
    "dependant"
   ]
  },
  {
   "cell_type": "code",
   "execution_count": 82,
   "id": "3e0613b8",
   "metadata": {},
   "outputs": [
    {
     "data": {
      "text/plain": [
       "Text(0, 0.5, 'Family Status')"
      ]
     },
     "execution_count": 82,
     "metadata": {},
     "output_type": "execute_result"
    },
    {
     "data": {
      "image/png": "[encoded data removed]",
      "text/plain": [
       "<Figure size 2016x1080 with 1 Axes>"
      ]
     },
     "metadata": {},
     "output_type": "display_data"
    }
   ],
   "source": [
    "# Bar chart using dependant variable\n",
    "bar2=dependant.plot.barh(color='lightcoral', fontsize=25)\n",
    "plt.title('Dependant distribution', fontsize=35)\n",
    "plt.xlabel('Number of Customers', fontsize=25)\n",
    "plt.ylabel('Family Status', fontsize=25)\n"
   ]
  },
  {
   "cell_type": "code",
   "execution_count": 83,
   "id": "abf6383f",
   "metadata": {},
   "outputs": [],
   "source": [
    "# Export bar chart\n",
    "bar2.figure.savefig(os.path.join(path, '04 Analysis','Visualisations', 'dependant_distribution.png'))"
   ]
  },
  {
   "cell_type": "markdown",
   "id": "2590422d",
   "metadata": {},
   "source": [
    "## 8d Deparments distribution"
   ]
  },
  {
   "cell_type": "markdown",
   "id": "a5dc2821",
   "metadata": {},
   "source": [
    "### Alcohol profile"
   ]
  },
  {
   "cell_type": "code",
   "execution_count": 85,
   "id": "78d420b5",
   "metadata": {},
   "outputs": [
    {
     "data": {
      "image/png": "[encoded data removed]",
      "text/plain": [
       "<Figure size 1800x720 with 1 Axes>"
      ]
     },
     "metadata": {},
     "output_type": "display_data"
    }
   ],
   "source": [
    "\n",
    "sns.set(rc = {'figure.figsize':(25,10)})\n",
    "\n",
    "#Creating a pie chart for customers who purchased alcohol at least 1x\n",
    "\n",
    "alcohol=truthbetold['alcohol_flag'].value_counts().plot.pie(label='', labels=['Has not purchased alcohol', 'Has purchased alcohol'],autopct=('%1.f%%'), colors=['forestgreen','slategrey'], textprops={'fontsize': 20})"
   ]
  },
  {
   "cell_type": "code",
   "execution_count": 86,
   "id": "c80d3abd",
   "metadata": {},
   "outputs": [],
   "source": [
    "# Export pie chart\n",
    "alcohol.figure.savefig(os.path.join(path, '04 Analysis','Visualisations', 'alcohol_flag.png'))"
   ]
  },
  {
   "cell_type": "markdown",
   "id": "668c352e",
   "metadata": {},
   "source": [
    "### Baby items profile"
   ]
  },
  {
   "cell_type": "code",
   "execution_count": 88,
   "id": "e2d32e39",
   "metadata": {},
   "outputs": [
    {
     "data": {
      "image/png": "[encoded data removed]",
      "text/plain": [
       "<Figure size 1800x720 with 1 Axes>"
      ]
     },
     "metadata": {},
     "output_type": "display_data"
    }
   ],
   "source": [
    "#Creating a pie chart for customers who purchased baby items at least 1x\n",
    "\n",
    "babies=truthbetold['baby_flag'].value_counts().plot.pie(label='', labels=['Has not purchased baby items', 'Has purchased baby items'],autopct=('%1.f%%'), colors=['turquoise','plum'], textprops={'fontsize': 20})"
   ]
  },
  {
   "cell_type": "code",
   "execution_count": 90,
   "id": "f69e6d86",
   "metadata": {},
   "outputs": [
    {
     "data": {
      "text/plain": [
       "0    132401\n",
       "1     30230\n",
       "Name: baby_flag, dtype: int64"
      ]
     },
     "execution_count": 90,
     "metadata": {},
     "output_type": "execute_result"
    }
   ],
   "source": [
    "# double check value counts\n",
    "truthbetold['baby_flag'].value_counts()"
   ]
  },
  {
   "cell_type": "code",
   "execution_count": 91,
   "id": "854fe224",
   "metadata": {},
   "outputs": [],
   "source": [
    "# Export pie chart\n",
    "babies.figure.savefig(os.path.join(path, '04 Analysis','Visualisations', 'babies_flag.png'))"
   ]
  },
  {
   "cell_type": "markdown",
   "id": "0f126914",
   "metadata": {},
   "source": [
    "### International items buyer profile"
   ]
  },
  {
   "cell_type": "code",
   "execution_count": 95,
   "id": "12439499",
   "metadata": {},
   "outputs": [
    {
     "data": {
      "image/png": "[encoded data removed]",
      "text/plain": [
       "<Figure size 1800x720 with 1 Axes>"
      ]
     },
     "metadata": {},
     "output_type": "display_data"
    }
   ],
   "source": [
    "#Creating a pie chart for customers who purchased international items at least 1x\n",
    "\n",
    "intern=truthbetold['international_flag'].value_counts().plot.pie(label='', labels=['Has not purchased international items', 'Has purchased international items'],autopct=('%1.f%%'), colors=['gold','indigo'], textprops={'fontsize': 20, 'color': 'grey'})"
   ]
  },
  {
   "cell_type": "code",
   "execution_count": 96,
   "id": "3a6e6816",
   "metadata": {},
   "outputs": [],
   "source": [
    "# Export pie chart\n",
    "intern.figure.savefig(os.path.join(path, '04 Analysis','Visualisations', 'international_flag.png'))"
   ]
  },
  {
   "cell_type": "code",
   "execution_count": 97,
   "id": "75aefe00",
   "metadata": {},
   "outputs": [],
   "source": [
    "# Export truthbetold\n",
    "truthbetold.to_pickle(os.path.join(path, '02 Data', 'Prepared Data', 'truthbetold.pkl'))"
   ]
  },
  {
   "cell_type": "code",
   "execution_count": 98,
   "id": "aa4ca58c",
   "metadata": {},
   "outputs": [
    {
     "data": {
      "text/plain": [
       "(162631, 41)"
      ]
     },
     "execution_count": 98,
     "metadata": {},
     "output_type": "execute_result"
    }
   ],
   "source": [
    "truthbetold.shape"
   ]
  },
  {
   "cell_type": "code",
   "execution_count": null,
   "id": "7eef9864",
   "metadata": {},
   "outputs": [],
   "source": []
  },
  {
   "cell_type": "code",
   "execution_count": null,
   "id": "7bc98999",
   "metadata": {},
   "outputs": [],
   "source": []
  },
  {
   "cell_type": "code",
   "execution_count": null,
   "id": "f6598348",
   "metadata": {},
   "outputs": [],
   "source": []
  }
 ],
 "metadata": {
  "kernelspec": {
   "display_name": "Python 3 (ipykernel)",
   "language": "python",
   "name": "python3"
  },
  "language_info": {
   "codemirror_mode": {
    "name": "ipython",
    "version": 3
   },
   "file_extension": ".py",
   "mimetype": "text/x-python",
   "name": "python",
   "nbconvert_exporter": "python",
   "pygments_lexer": "ipython3",
   "version": "3.9.12"
  }
 },
 "nbformat": 4,
 "nbformat_minor": 5
}
