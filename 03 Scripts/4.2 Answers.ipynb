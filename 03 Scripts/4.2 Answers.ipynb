{
 "cells": [
  {
   "cell_type": "code",
   "execution_count": 1,
   "id": "31145d68-f03d-4bc7-a994-e54bd00c7e5d",
   "metadata": {},
   "outputs": [],
   "source": [
    "a = 5"
   ]
  },
  {
   "cell_type": "code",
   "execution_count": 2,
   "id": "941339d1-d02a-4cd1-927b-f4eb2f0ed430",
   "metadata": {},
   "outputs": [],
   "source": [
    "b = 10"
   ]
  },
  {
   "cell_type": "code",
   "execution_count": 3,
   "id": "e0703a2b-a32d-4c95-91fb-60b07493ade2",
   "metadata": {},
   "outputs": [],
   "source": [
    "c = 20"
   ]
  },
  {
   "cell_type": "code",
   "execution_count": 4,
   "id": "8d98b823-d8f4-4208-8dd1-affe6ca9055c",
   "metadata": {},
   "outputs": [
    {
     "data": {
      "text/plain": [
       "100"
      ]
     },
     "execution_count": 4,
     "metadata": {},
     "output_type": "execute_result"
    }
   ],
   "source": [
    "a * c "
   ]
  },
  {
   "cell_type": "code",
   "execution_count": 8,
   "id": "ce504991-720e-42a4-a81d-f068daa7bace",
   "metadata": {},
   "outputs": [
    {
     "data": {
      "text/plain": [
       "100"
      ]
     },
     "execution_count": 8,
     "metadata": {},
     "output_type": "execute_result"
    }
   ],
   "source": [
    "(b * c) - (a * c)"
   ]
  },
  {
   "cell_type": "code",
   "execution_count": 9,
   "id": "92066c0c-7389-4849-a973-eba92eeecce5",
   "metadata": {},
   "outputs": [
    {
     "data": {
      "text/plain": [
       "100"
      ]
     },
     "execution_count": 9,
     "metadata": {},
     "output_type": "execute_result"
    }
   ],
   "source": [
    "5 * c"
   ]
  },
  {
   "cell_type": "code",
   "execution_count": 11,
   "id": "32ed7110-a0d4-4ae5-b219-eddec06b1764",
   "metadata": {},
   "outputs": [],
   "source": [
    "d = 5.678\n",
    "e = 8.765"
   ]
  },
  {
   "cell_type": "code",
   "execution_count": 12,
   "id": "60eadddf-2595-49f0-b453-64734bdefd23",
   "metadata": {},
   "outputs": [
    {
     "data": {
      "text/plain": [
       "0.6478037649743297"
      ]
     },
     "execution_count": 12,
     "metadata": {},
     "output_type": "execute_result"
    }
   ],
   "source": [
    "d / e "
   ]
  },
  {
   "cell_type": "code",
   "execution_count": 13,
   "id": "e6e81217-0287-4763-937e-01c8155ca81c",
   "metadata": {},
   "outputs": [],
   "source": [
    "f = 'Hello, '"
   ]
  },
  {
   "cell_type": "code",
   "execution_count": 14,
   "id": "95198e95-973c-481c-9c23-2a504f80a4de",
   "metadata": {},
   "outputs": [],
   "source": [
    "g = 'World.'"
   ]
  },
  {
   "cell_type": "code",
   "execution_count": 15,
   "id": "a3d8ec2f-fcba-4d0b-8d11-ef699becbc56",
   "metadata": {},
   "outputs": [
    {
     "data": {
      "text/plain": [
       "'Hello, World.'"
      ]
     },
     "execution_count": 15,
     "metadata": {},
     "output_type": "execute_result"
    }
   ],
   "source": [
    "f + g "
   ]
  },
  {
   "cell_type": "code",
   "execution_count": 17,
   "id": "c80d8e8c-2846-460a-b22d-399438afffea",
   "metadata": {},
   "outputs": [],
   "source": [
    "h = f + g"
   ]
  },
  {
   "cell_type": "code",
   "execution_count": 18,
   "id": "a9c54fce-c4b0-40eb-a2fd-184d45b023a5",
   "metadata": {},
   "outputs": [
    {
     "name": "stdout",
     "output_type": "stream",
     "text": [
      "Hello, World.\n"
     ]
    }
   ],
   "source": [
    "print (h)"
   ]
  },
  {
   "cell_type": "code",
   "execution_count": null,
   "id": "be2c3e93-dbc9-4d59-9822-870db00659b4",
   "metadata": {},
   "outputs": [],
   "source": []
  },
  {
   "cell_type": "code",
   "execution_count": 19,
   "id": "e7920bb5-44c5-48df-9aa2-b96b5da612d1",
   "metadata": {},
   "outputs": [],
   "source": [
    "m = 'Today '"
   ]
  },
  {
   "cell_type": "code",
   "execution_count": 20,
   "id": "bd183e02-8d55-4103-af27-4d5eee81799a",
   "metadata": {},
   "outputs": [],
   "source": [
    "n = 'is '"
   ]
  },
  {
   "cell_type": "code",
   "execution_count": 21,
   "id": "fac9c431-567e-40e8-971d-6977be374f8e",
   "metadata": {},
   "outputs": [],
   "source": [
    "o = 'good!'"
   ]
  },
  {
   "cell_type": "code",
   "execution_count": 22,
   "id": "a5d8628a-0b3b-4ac4-b0f8-09356c7226cb",
   "metadata": {},
   "outputs": [],
   "source": [
    "p = m + n + o"
   ]
  },
  {
   "cell_type": "code",
   "execution_count": 23,
   "id": "ad7992a7-1fe6-441f-ad16-d0bf48d8eef2",
   "metadata": {},
   "outputs": [
    {
     "name": "stdout",
     "output_type": "stream",
     "text": [
      "Today is good!\n"
     ]
    }
   ],
   "source": [
    "print (p)"
   ]
  },
  {
   "cell_type": "code",
   "execution_count": 24,
   "id": "05ee300e-1438-435c-87ac-43b221374a7a",
   "metadata": {},
   "outputs": [
    {
     "name": "stdout",
     "output_type": "stream",
     "text": [
      "Hello, World.Today is good!\n"
     ]
    }
   ],
   "source": [
    "print(h + p)"
   ]
  },
  {
   "cell_type": "code",
   "execution_count": null,
   "id": "0f5bcc52-311c-4852-b2e6-092850e7df66",
   "metadata": {},
   "outputs": [],
   "source": []
  }
 ],
 "metadata": {
  "kernelspec": {
   "display_name": "Python 3 (ipykernel)",
   "language": "python",
   "name": "python3"
  },
  "language_info": {
   "codemirror_mode": {
    "name": "ipython",
    "version": 3
   },
   "file_extension": ".py",
   "mimetype": "text/x-python",
   "name": "python",
   "nbconvert_exporter": "python",
   "pygments_lexer": "ipython3",
   "version": "3.9.12"
  }
 },
 "nbformat": 4,
 "nbformat_minor": 5
}
